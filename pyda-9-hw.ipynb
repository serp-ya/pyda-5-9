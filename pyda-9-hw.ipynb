{
 "cells": [
  {
   "cell_type": "markdown",
   "metadata": {},
   "source": [
    "## Задание 1"
   ]
  },
  {
   "cell_type": "markdown",
   "metadata": {},
   "source": [
    "Напишите функцию date_range, которая возвращает список дней между датами start_date и end_date. \n",
    "\n",
    "Даты должны вводиться в формате YYYY-MM-DD."
   ]
  },
  {
   "cell_type": "code",
   "execution_count": 1,
   "metadata": {},
   "outputs": [
    {
     "data": {
      "text/plain": [
       "[28, 29, 30, 31, 1, 2, 3, 4]"
      ]
     },
     "execution_count": 1,
     "metadata": {},
     "output_type": "execute_result"
    }
   ],
   "source": [
    "from datetime import datetime, timedelta\n",
    "\n",
    "def date_range(start_date, end_date, date_format='%Y-%m-%d'):\n",
    "    result = []\n",
    "    try:\n",
    "        start_date_dt = datetime.strptime(start_date, date_format)\n",
    "        end_date_dt = datetime.strptime(end_date, date_format)\n",
    "    except:\n",
    "        return result\n",
    "\n",
    "    current_date_dt = start_date_dt\n",
    "    \n",
    "    while current_date_dt < end_date_dt:\n",
    "        # я не уверен, но задание гласит: \"...возвращает список дней\"\n",
    "        result.append(current_date_dt.day)\n",
    "        current_date_dt += timedelta(days=1)\n",
    "        \n",
    "    return result\n",
    "    \n",
    "date_range('1999-01-28', '1999-02-05')"
   ]
  },
  {
   "cell_type": "markdown",
   "metadata": {},
   "source": [
    "## Задание 2"
   ]
  },
  {
   "cell_type": "markdown",
   "metadata": {},
   "source": [
    "Дополните функцию из первого задания проверкой на корректность дат. В случае неверного формата или если start_date > end_date должен возвращаться пустой список."
   ]
  },
  {
   "cell_type": "code",
   "execution_count": 2,
   "metadata": {},
   "outputs": [
    {
     "name": "stdout",
     "output_type": "stream",
     "text": [
      "1 []\n",
      "2 []\n"
     ]
    }
   ],
   "source": [
    "# было реализовано в начальной реализации\n",
    "print('1', date_range('1999-02-05', '1999-01-28'))\n",
    "print('2', date_range('1999-111-222', '1999-333-444'))"
   ]
  },
  {
   "cell_type": "markdown",
   "metadata": {},
   "source": [
    "## Задание 3"
   ]
  },
  {
   "cell_type": "markdown",
   "metadata": {},
   "source": [
    "Дан поток дат в формате YYYY-MM-DD, в которых встречаются некорректные значения:\n",
    "stream = [‘2018-04-02’, ‘2018-02-29’, ‘2018-19-02’]\n",
    "\n",
    "Напишите функцию, которая проверяет эти даты на корректность. Т. е. для каждой даты возвращает True (дата корректна) или False (некорректная дата)."
   ]
  },
  {
   "cell_type": "code",
   "execution_count": 3,
   "metadata": {},
   "outputs": [
    {
     "name": "stdout",
     "output_type": "stream",
     "text": [
      "True\n",
      "False\n",
      "False\n"
     ]
    }
   ],
   "source": [
    "from datetime import datetime\n",
    "\n",
    "stream = ['2018-04-02', '2018-02-29', '2018-19-02']\n",
    "\n",
    "def check_date_is_correct(date, date_format='%Y-%m-%d'):\n",
    "    try:\n",
    "        datetime.strptime(date, date_format)\n",
    "        return True\n",
    "    except:\n",
    "        return False\n",
    "    \n",
    "\n",
    "for date in stream:\n",
    "    print(check_date_is_correct(date))"
   ]
  },
  {
   "cell_type": "markdown",
   "metadata": {},
   "source": [
    "## Задание 4"
   ]
  },
  {
   "cell_type": "markdown",
   "metadata": {},
   "source": [
    "В последнем примере поиска по словарю мы использовали 3 столбца. Напишите функцию, которая формирует словарь для поиска по n столбцам."
   ]
  },
  {
   "cell_type": "code",
   "execution_count": 4,
   "metadata": {},
   "outputs": [
    {
     "data": {
      "text/plain": [
       "{('14',): ['26376', '3', '13301'],\n",
       " ('12',): ['7316', '2', '19329'],\n",
       " ('28',): [],\n",
       " ('25',): ['22022', '2', '94036'],\n",
       " ('20',): ['13883', '5', '50722']}"
      ]
     },
     "execution_count": 4,
     "metadata": {},
     "output_type": "execute_result"
    }
   ],
   "source": [
    "def create_hash_map(vectors, n = 1):\n",
    "    result = {}\n",
    "    \n",
    "    for vector in vectors:\n",
    "        hash_key = tuple(vector[:n])\n",
    "        result[hash_key] = vector[n:]\n",
    "        \n",
    "    return result\n",
    "\n",
    "data = [\n",
    "    ['14', '26376', '3', '13301'],\n",
    "    ['12', '7316', '2', '19329'],\n",
    "    ['28'],\n",
    "    ['25', '22022', '2', '94036'],\n",
    "    ['20', '13883', '5', '50722'],\n",
    "]\n",
    "\n",
    "create_hash_map(data)"
   ]
  }
 ],
 "metadata": {
  "kernelspec": {
   "display_name": "Python 3",
   "language": "python",
   "name": "python3"
  },
  "language_info": {
   "codemirror_mode": {
    "name": "ipython",
    "version": 3
   },
   "file_extension": ".py",
   "mimetype": "text/x-python",
   "name": "python",
   "nbconvert_exporter": "python",
   "pygments_lexer": "ipython3",
   "version": "3.7.4"
  }
 },
 "nbformat": 4,
 "nbformat_minor": 2
}
